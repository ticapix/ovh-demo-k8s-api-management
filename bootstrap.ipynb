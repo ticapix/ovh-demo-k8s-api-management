{
 "cells": [
  {
   "cell_type": "markdown",
   "metadata": {},
   "source": [
    "# Install kubctl\n",
    "\n",
    "Official [documentation](https://kubernetes.io/docs/tasks/tools/install-kubectl/).\n",
    "\n",
    "Below is the lazy non-root method."
   ]
  },
  {
   "cell_type": "code",
   "execution_count": 9,
   "metadata": {},
   "outputs": [
    {
     "name": "stdout",
     "output_type": "stream",
     "text": [
      "  % Total    % Received % Xferd  Average Speed   Time    Time     Time  Current\n",
      "                                 Dload  Upload   Total   Spent    Left  Speed\n",
      "100 37.4M  100 37.4M    0     0  2112k      0  0:00:18  0:00:18 --:--:-- 2332k\n"
     ]
    }
   ],
   "source": [
    "curl -LO https://storage.googleapis.com/kubernetes-release/release/$(curl -s https://storage.googleapis.com/kubernetes-release/release/stable.txt)/bin/linux/amd64/kubectl"
   ]
  },
  {
   "cell_type": "code",
   "execution_count": 23,
   "metadata": {},
   "outputs": [],
   "source": [
    "chmod +x ./kubectl"
   ]
  },
  {
   "cell_type": "code",
   "execution_count": 24,
   "metadata": {},
   "outputs": [],
   "source": [
    "export PATH=`pwd`:$PATH"
   ]
  },
  {
   "cell_type": "code",
   "execution_count": 25,
   "metadata": {},
   "outputs": [
    {
     "name": "stdout",
     "output_type": "stream",
     "text": [
      "/home/pierre/workspace/articles/k8s_201/kubectl\n"
     ]
    }
   ],
   "source": [
    "which kubectl"
   ]
  },
  {
   "cell_type": "markdown",
   "metadata": {},
   "source": [
    "# Install helm\n",
    "\n",
    "Official [documentation](https://helm.sh/docs/using_helm/).\n",
    "\n",
    "Below is the lazy non-recommended non-root method"
   ]
  },
  {
   "cell_type": "code",
   "execution_count": 18,
   "metadata": {},
   "outputs": [
    {
     "name": "stdout",
     "output_type": "stream",
     "text": [
      "  % Total    % Received % Xferd  Average Speed   Time    Time     Time  Current\n",
      "                                 Dload  Upload   Total   Spent    Left  Speed\n",
      "100  7234  100  7234    0     0  55646      0 --:--:-- --:--:-- --:--:-- 55646\n",
      "Downloading https://kubernetes-helm.storage.googleapis.com/helm-v2.13.0-linux-amd64.tar.gz\n",
      "Preparing to install helm and tiller into /home/pierre/workspace/articles/k8s_201\n",
      "helm installed into /home/pierre/workspace/articles/k8s_201/helm\n",
      "tiller installed into /home/pierre/workspace/articles/k8s_201/tiller\n",
      "Run 'helm init' to configure helm.\n"
     ]
    }
   ],
   "source": [
    "export HELM_INSTALL_DIR=`pwd`\n",
    "export USE_SUDO=false\n",
    "curl https://raw.githubusercontent.com/helm/helm/master/scripts/get | bash"
   ]
  },
  {
   "cell_type": "code",
   "execution_count": 26,
   "metadata": {},
   "outputs": [],
   "source": [
    "export PATH=`pwd`:$PATH"
   ]
  },
  {
   "cell_type": "code",
   "execution_count": 29,
   "metadata": {},
   "outputs": [
    {
     "name": "stdout",
     "output_type": "stream",
     "text": [
      "/home/pierre/workspace/articles/k8s_201/helm\n"
     ]
    }
   ],
   "source": [
    "which helm"
   ]
  },
  {
   "cell_type": "code",
   "execution_count": null,
   "metadata": {},
   "outputs": [],
   "source": []
  }
 ],
 "metadata": {
  "kernelspec": {
   "display_name": "Bash",
   "language": "bash",
   "name": "bash"
  },
  "language_info": {
   "codemirror_mode": "shell",
   "file_extension": ".sh",
   "mimetype": "text/x-sh",
   "name": "bash"
  }
 },
 "nbformat": 4,
 "nbformat_minor": 2
}
