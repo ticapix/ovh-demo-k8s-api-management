{
 "cells": [
  {
   "cell_type": "markdown",
   "metadata": {},
   "source": [
    "# End-to-End API deployment\n",
    "\n",
    "*As a dev, I want to focus on my business application.*\n",
    "\n",
    "In this guide, we'll be using Domain name, ACME protocole, Kubernetes, OVH API and few other products such as Elastic Search index, NOSQL database and Gravitee.io.\n",
    "\n",
    "# Kubernetes setup\n",
    "\n",
    "[Setup](k8s.ipynb#Kubernetes-setup) your local environment, add nodes and configure Helm."
   ]
  },
  {
   "cell_type": "code",
   "execution_count": null,
   "metadata": {},
   "outputs": [],
   "source": [
    ". ./activate"
   ]
  },
  {
   "cell_type": "markdown",
   "metadata": {},
   "source": [
    "# Install the IngressController\n",
    "\n",
    "First thing first, we'll deploy a `LoadBalancer` and NGINX `IngressController` with `helm`.\n",
    "\n",
    "You'll be using this [chart](https://github.com/helm/charts/tree/master/stable/nginx-ingress) and deploy it in the `kube-public` namespace."
   ]
  },
  {
   "cell_type": "code",
   "execution_count": null,
   "metadata": {},
   "outputs": [],
   "source": [
    "helm install stable/nginx-ingress --namespace kube-public --set controller.replicaCount=2"
   ]
  },
  {
   "cell_type": "markdown",
   "metadata": {},
   "source": [
    "# Domain and certificates\n",
    "\n",
    "## DNS config\n",
    "\n",
    "Once the `IngressController` is up, you should get its ip and domain via `kubectl -n kube-public get svc -l component=controller`"
   ]
  },
  {
   "cell_type": "code",
   "execution_count": null,
   "metadata": {},
   "outputs": [],
   "source": [
    "kubectl -n kube-public get svc -l component=controller"
   ]
  },
  {
   "attachments": {
    "image.png": {
     "image/png": "[encoded data removed]"
    }
   },
   "cell_type": "markdown",
   "metadata": {},
   "source": [
    "Using the above value, edit your DNS Zone accordingly via the OVH Manager\n",
    "\n",
    "![image.png](attachment:image.png)\n"
   ]
  },
  {
   "cell_type": "markdown",
   "metadata": {},
   "source": [
    "or via the OVH API\n",
    "\n",
    "- with [`POST /domain/zone/{zoneName}/import`](https://api.ovh.com/console/#/domain/zone/%7BzoneName%7D/import#POST) to import the entire DNS zone\n",
    "- with [`POST /domain/zone/{zoneName}/record`](https://api.ovh.com/console/#/domain/zone/%7BzoneName%7D/record#POST) to edit only entry.\n",
    "\n",
    "**Tip**: To avoid waiting DNS config to propagate to your DNS servers - up to 24h -, set your DNS servers to OVH ones.\n",
    "\n",
    "## Certificates\n",
    "\n",
    "Once your DNS zone is up. You can generate TLS certificate follwing the ACME DNS protocole.\n",
    "\n",
    "Unlike with HTTP protocol, you'll be able to generate certificate for wildcard sub-domain and without editing your web server configuration.\n",
    "\n",
    "We strongly recommend to follow this [guide](https://github.com/Neilpang/acme.sh/wiki/How-to-use-OVH-domain-api#advanced-usage) which leverate OVH API and can be easilly automated.\n",
    "\n",
    "After following the guide, you should generate the certificate with `acme.sh --issue --dns dns_ovh -d '*.apis.ovh'` from your local console.\n",
    "\n",
    "You should obtain the following files: \n",
    "\n",
    "- `domain.key`: the domain private key\n",
    "- `domain.csr`: the domain certificate signing request\n",
    "- `domain.cer`: the domain public key\n",
    "- `ca.cer`: the certificate authority public key\n",
    "- `fullchain.cer`: the fullchain (CA + subordinate + your domain) public key\n",
    "\n",
    "Let's create a `kubernetes.io/tls` secret\n"
   ]
  },
  {
   "cell_type": "code",
   "execution_count": null,
   "metadata": {},
   "outputs": [],
   "source": [
    "kubectl create secret tls apis.ovh-cert --key ./domain.key --cert ./fullchain.cer"
   ]
  },
  {
   "cell_type": "code",
   "execution_count": null,
   "metadata": {},
   "outputs": [],
   "source": [
    "kubectl describe secret apis.ovh-cert"
   ]
  },
  {
   "cell_type": "markdown",
   "metadata": {},
   "source": [
    "# Install Gravitee.io\n",
    "\n",
    "[gravitee.io](https://gravitee.io/) is an API manager. The setup is described [here](gravitee-setup.ipynb)\n",
    "\n",
    "\n",
    "# Install Linkerd\n",
    "\n",
    "The following commands are detailed [here](https://linkerd.io/2/getting-started/)\n"
   ]
  },
  {
   "cell_type": "code",
   "execution_count": null,
   "metadata": {},
   "outputs": [],
   "source": [
    "linkerd check --pre && (linkerd install | kubectl apply -f -) # do a pre-check and install"
   ]
  },
  {
   "cell_type": "code",
   "execution_count": null,
   "metadata": {},
   "outputs": [],
   "source": [
    "linkerd check # check installation went fine"
   ]
  },
  {
   "cell_type": "markdown",
   "metadata": {},
   "source": [
    "You can open a tunnel to access Linkerd dashboard. Run the following command in a separate termminal\n",
    "```\n",
    "linkerd dashboard\n",
    "```\n",
    "\n",
    "Once linkerd is installed and configured, only an extra step is needed for the `Ingress`. In our case with NGINX, we have to follow this [documentation](https://linkerd.io/2/tasks/using-ingress/)"
   ]
  },
  {
   "cell_type": "code",
   "execution_count": null,
   "metadata": {},
   "outputs": [],
   "source": [
    "kubectl get deploy -o yaml | linkerd inject - | kubectl apply -f - # to install Linkerd"
   ]
  },
  {
   "cell_type": "code",
   "execution_count": null,
   "metadata": {},
   "outputs": [],
   "source": [
    "kubectl annotate ing gravitee-ui 'nginx.ingress.kubernetes.io/upstream-vhost=$service_name.$namespace.svc.cluster.local'\n",
    "kubectl annotate ing gravitee-api 'nginx.ingress.kubernetes.io/upstream-vhost=$service_name.$namespace.svc.cluster.local'\n",
    "kubectl annotate ing gravitee-gateway 'nginx.ingress.kubernetes.io/upstream-vhost=$service_name.$namespace.svc.cluster.local'"
   ]
  },
  {
   "cell_type": "markdown",
   "metadata": {},
   "source": [
    "To remove the annotations"
   ]
  },
  {
   "cell_type": "code",
   "execution_count": null,
   "metadata": {},
   "outputs": [],
   "source": [
    "kubectl annotate ing gravitee-ui nginx.ingress.kubernetes.io/upstream-vhost-\n",
    "kubectl annotate ing gravitee-api nginx.ingress.kubernetes.io/upstream-vhost-\n",
    "kubectl annotate ing gravitee-gateway nginx.ingress.kubernetes.io/upstream-vhost-"
   ]
  },
  {
   "cell_type": "code",
   "execution_count": null,
   "metadata": {},
   "outputs": [],
   "source": []
  }
 ],
 "metadata": {
  "celltoolbar": "Pièces jointes",
  "kernelspec": {
   "display_name": "Bash",
   "language": "bash",
   "name": "bash"
  },
  "language_info": {
   "codemirror_mode": "shell",
   "file_extension": ".sh",
   "mimetype": "text/x-sh",
   "name": "bash"
  }
 },
 "nbformat": 4,
 "nbformat_minor": 2
}
