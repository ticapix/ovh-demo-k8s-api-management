{
 "cells": [
  {
   "cell_type": "markdown",
   "metadata": {},
   "source": [
    "# Kubernetes setup\n",
    "\n",
    "## Get your cluster config\n",
    "\n",
    "Fetch your kube config file from the OVH Manager and save it in your local folder.\n",
    "\n",
    "![cluster info](docs/images/cluster_info.png)\n",
    "\n",
    "or via the OVH API https://api.ovh.com/console/#/kube/%7BserviceName%7D/kubeconfig#GET\n",
    "\n",
    "![kubeconfig](docs/images/cluster_info_api.png)\n",
    "\n",
    "**Note**: If you are using the API UI, you need to copy/paste the response in `kubeconfig.yaml` and run `sed -i 's/\\\\n/\\n/g' kubeconfig.yaml`\n",
    "\n",
    "Next, set the `KUBECONFIG` environment variable.\n"
   ]
  },
  {
   "cell_type": "code",
   "execution_count": null,
   "metadata": {},
   "outputs": [],
   "source": [
    "export KUBECONFIG=`pwd`/kubeconfig.yaml"
   ]
  },
  {
   "cell_type": "markdown",
   "metadata": {},
   "source": [
    "and check that you can access your cluster. Be sure to install [kubectl](bootstrap.ipynb#Install-kubctl) first."
   ]
  },
  {
   "cell_type": "code",
   "execution_count": null,
   "metadata": {},
   "outputs": [],
   "source": [
    "export PATH=`pwd`:$PATH\n",
    "kubectl cluster-info"
   ]
  },
  {
   "cell_type": "markdown",
   "metadata": {},
   "source": [
    "## Add nodes\n",
    "\n",
    "Check that you can connect and start adding your node, either via the OVH manager\n",
    "\n",
    "![add nodes](docs/images/add_node.png)\n",
    "\n",
    "or the OVH API https://api.ovh.com/console/#/kube/%7BserviceName%7D/publiccloud/node#GET\n",
    "\n",
    "![add node api](docs/images/add_node_api.png)"
   ]
  },
  {
   "cell_type": "code",
   "execution_count": null,
   "metadata": {},
   "outputs": [],
   "source": [
    "kubectl get nodes"
   ]
  },
  {
   "cell_type": "markdown",
   "metadata": {},
   "source": [
    "## Helm/Tiller\n",
    "\n",
    "Next, to simplify our deployement, we'll use helm.\n",
    "\n",
    "[Helm](https://github.com/helm/helm) is a tool for managing packages of pre-configured Kubernetes resources known as _charts_.\n",
    "\n",
    "It has two componenents:\n",
    "\n",
    "- a local client `helm` to [install](https://helm.sh/docs/using_helm/#install-helm) in your local environment.\n",
    "- a Kubernetes service `tiller`.\n",
    "\n",
    "### Configure RBAC for Tiller\n",
    "\n",
    "To allow tiller to manager the chars, we need first to create a `ServiceAccount` and give it `cluster-admin` rights.\n",
    "\n",
    "The full doc is available [here](https://docs.gitlab.com/ee/install/kubernetes/preparation/tiller.html)\n"
   ]
  },
  {
   "cell_type": "code",
   "execution_count": null,
   "metadata": {},
   "outputs": [],
   "source": [
    "cat > config.yml <<EOF\n",
    "apiVersion: v1\n",
    "kind: ServiceAccount\n",
    "metadata:\n",
    "  name: tiller\n",
    "  namespace: kube-system\n",
    "---\n",
    "apiVersion: rbac.authorization.k8s.io/v1\n",
    "kind: ClusterRoleBinding\n",
    "metadata:\n",
    "  name: tiller\n",
    "roleRef:\n",
    "  apiGroup: rbac.authorization.k8s.io\n",
    "  kind: ClusterRole\n",
    "  name: cluster-admin\n",
    "subjects:\n",
    "  - kind: ServiceAccount\n",
    "    name: tiller\n",
    "    namespace: kube-system\n",
    "EOF"
   ]
  },
  {
   "cell_type": "code",
   "execution_count": null,
   "metadata": {},
   "outputs": [],
   "source": [
    "kubectl apply -f config.yml # apply config"
   ]
  },
  {
   "cell_type": "markdown",
   "metadata": {},
   "source": [
    "### Init helm\n",
    "\n",
    "Use the `--upgrade` if `tiller`is already installed. Be sure to install [helm](bootstrap.ipynb#Install-helm) first.\n"
   ]
  },
  {
   "cell_type": "code",
   "execution_count": null,
   "metadata": {},
   "outputs": [],
   "source": [
    "export PATH=`pwd`:$PATH\n",
    "helm init --upgrade --service-account tiller # deploy the service in the remote cluster"
   ]
  },
  {
   "cell_type": "code",
   "execution_count": null,
   "metadata": {},
   "outputs": [],
   "source": [
    "kubectl get pods -n kube-system -l app=helm # check that the pod is up and running"
   ]
  },
  {
   "cell_type": "code",
   "execution_count": null,
   "metadata": {},
   "outputs": [],
   "source": [
    "helm version # check that both client and server version are the same"
   ]
  },
  {
   "cell_type": "code",
   "execution_count": null,
   "metadata": {},
   "outputs": [],
   "source": [
    "helm repo update # Update the helm package list"
   ]
  }
 ],
 "metadata": {
  "celltoolbar": "Pièces jointes",
  "kernelspec": {
   "display_name": "Bash",
   "language": "bash",
   "name": "bash"
  },
  "language_info": {
   "codemirror_mode": "shell",
   "file_extension": ".sh",
   "mimetype": "text/x-sh",
   "name": "bash"
  }
 },
 "nbformat": 4,
 "nbformat_minor": 2
}
