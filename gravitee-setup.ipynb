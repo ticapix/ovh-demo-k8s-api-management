{
 "cells": [
  {
   "cell_type": "markdown",
   "metadata": {},
   "source": [
    "# Gravitee.io setup\n",
    "\n",
    "## Env Init and MongoDB setup"
   ]
  },
  {
   "cell_type": "code",
   "execution_count": null,
   "metadata": {},
   "outputs": [],
   "source": [
    ". ./activate"
   ]
  },
  {
   "cell_type": "markdown",
   "metadata": {},
   "source": [
    "First we'll create a secret for our MongoDB database"
   ]
  },
  {
   "cell_type": "code",
   "execution_count": null,
   "metadata": {},
   "outputs": [],
   "source": [
    "cat > config.yml <<EOF\n",
    "apiVersion: v1\n",
    "kind: Secret\n",
    "metadata:\n",
    "  name: gravitee-mongodb\n",
    "type: Opaque\n",
    "data:\n",
    "  database: gravitee\n",
    "stringData:\n",
    "  username: gravitee\n",
    "  password: \"Sup3rStr0ngPassw0rd\"\n",
    "EOF"
   ]
  },
  {
   "cell_type": "code",
   "execution_count": null,
   "metadata": {},
   "outputs": [],
   "source": [
    "kubectl apply -f config.yml"
   ]
  },
  {
   "cell_type": "markdown",
   "metadata": {},
   "source": [
    "We need now to create a user account associated with the MongoDB database we'll be using"
   ]
  },
  {
   "cell_type": "code",
   "execution_count": null,
   "metadata": {},
   "outputs": [],
   "source": [
    "# Admin credential\n",
    "MONGODB_ADMIN_USER=root\n",
    "MONGODB_ADMIN_PASS=$(kubectl get secret my-mongodb -o jsonpath=\"{.data.mongodb-root-password}\" | base64 --decode)\n",
    "# DB connection settings\n",
    "MONGODB_HOST=$(kubectl get service -l release=my-mongodb -o jsonpath=\"{.items[0].metadata.name}.{.items[0].metadata.namespace}.svc.cluster.local\")\n",
    "MONGODB_PORT=$(kubectl get service -l release=my-mongodb -o jsonpath=\"{.items[0].spec.ports[0].port}\")\n",
    "# Gravitee credential\n",
    "MONGODB_DB=$(kubectl get secret gravitee-mongodb -o jsonpath=\"{.data.database}\")\n",
    "MONGODB_GRAVITEE_USER=$(kubectl get secret gravitee-mongodb -o jsonpath=\"{.data.username}\" | base64 --decode)\n",
    "MONGODB_GRAVITEE_PASS=$(kubectl get secret gravitee-mongodb -o jsonpath=\"{.data.password}\" | base64 --decode)"
   ]
  },
  {
   "cell_type": "code",
   "execution_count": null,
   "metadata": {},
   "outputs": [],
   "source": [
    "echo Host: $MONGODB_HOST, Port: $MONGODB_PORT"
   ]
  },
  {
   "cell_type": "code",
   "execution_count": null,
   "metadata": {},
   "outputs": [],
   "source": [
    "# https://docs.mongodb.com/manual/reference/built-in-roles/#database-user-roles\n",
    "cat > config.js <<EOF\n",
    "db = db.getSiblingDB(\"$MONGODB_DB\")\n",
    "db.dropUser(\"$MONGODB_GRAVITEE_USER\")\n",
    "db.createUser({\"user\": \"$MONGODB_GRAVITEE_USER\", \"pwd\": \"$MONGODB_GRAVITEE_PASS\", \"roles\": [\"dbOwner\"]})\n",
    "EOF"
   ]
  },
  {
   "cell_type": "code",
   "execution_count": null,
   "metadata": {},
   "outputs": [],
   "source": [
    "cat config.js | kubectl run my-mongodb-client --rm -i --restart='Never' \\\n",
    "--image bitnami/mongodb \\\n",
    "--command -- mongo --host $MONGODB_HOST:$MONGODB_PORT -u $MONGODB_ADMIN_USER -p $MONGODB_ADMIN_PASS"
   ]
  },
  {
   "attachments": {
    "image.png": {
     "image/png": "[encoded data removed]"
    }
   },
   "cell_type": "markdown",
   "metadata": {},
   "source": [
    "## ElasticSearch setup\n",
    "\n",
    "### with OVH Logs\n",
    "\n",
    "After subscripbing to a Logs offer, go to your OVH manager and in any of the tab from your Logs service, you can increase your quota. Select the `Kibana on-demand` offer which will give 1 alias and 1x 500 MB index.\n",
    "\n",
    "![image.png](attachment:image.png)\n",
    "\n",
    "Next, create your index and give it a name, like `gravitee`\n",
    "\n",
    "Considering the above parameters, the Helm gravitee configuration will be as\n",
    "\n",
    "```yaml\n",
    "es:\n",
    "  protocol: https\n",
    "  cluster: graylog-gra2\n",
    "  index: logs-XXXXX-i-gravitee\n",
    "  host: gra2.logs.ovh.com\n",
    "  port: 9200\n",
    "  security:\n",
    "    enabled: true\n",
    "    username: logs-XXXX\n",
    "    password: XXXX\n",
    "```\n"
   ]
  },
  {
   "cell_type": "markdown",
   "metadata": {},
   "source": [
    "### with K8s\n",
    "\n",
    "We need to gather some ElasticSearch configuration values"
   ]
  },
  {
   "cell_type": "code",
   "execution_count": null,
   "metadata": {},
   "outputs": [],
   "source": [
    "ES_PROTOCOL=$(kubectl get service -l release=my-elasticsearch -o jsonpath=\"{.items[0].spec.ports[0].name}\")\n",
    "ES_PORT=$(kubectl get service -l release=my-elasticsearch -o jsonpath=\"{.items[0].spec.ports[0].port}\")\n",
    "ES_HOST=$(kubectl get service -l release=my-elasticsearch -o jsonpath=\"{.items[0].metadata.name}.{.items[0].metadata.namespace}.svc.cluster.local\")"
   ]
  },
  {
   "cell_type": "code",
   "execution_count": null,
   "metadata": {},
   "outputs": [],
   "source": [
    "echo Protocol: $ES_PROTOCOL, Host: $ES_HOST, Port: $ES_PORT"
   ]
  },
  {
   "cell_type": "markdown",
   "metadata": {},
   "source": [
    "## Gravitee installation\n",
    "\n",
    "The first step is to build the helm [chart](https://github.com/gravitee-io/gravitee-kubernetes/tree/master/gravitee)."
   ]
  },
  {
   "cell_type": "code",
   "execution_count": null,
   "metadata": {},
   "outputs": [],
   "source": [
    "curl -OL https://github.com/gravitee-io/gravitee-kubernetes/archive/master.zip"
   ]
  },
  {
   "cell_type": "code",
   "execution_count": null,
   "metadata": {},
   "outputs": [],
   "source": [
    "unzip -ou master.zip"
   ]
  },
  {
   "cell_type": "code",
   "execution_count": null,
   "metadata": {},
   "outputs": [],
   "source": [
    "helm package gravitee-kubernetes-*/gravitee/ # build chart"
   ]
  },
  {
   "cell_type": "code",
   "execution_count": null,
   "metadata": {},
   "outputs": [],
   "source": [
    "kubectl create secret tls apis.ovh-cert --key ./tls.key --cert ./tls.crt"
   ]
  },
  {
   "cell_type": "markdown",
   "metadata": {},
   "source": [
    "Generate bcrypt (`$2a$` version) hash.\n",
    "\n",
    "You could use an online generator such as https://www.browserling.com/tools/bcrypt"
   ]
  },
  {
   "cell_type": "code",
   "execution_count": null,
   "metadata": {},
   "outputs": [],
   "source": [
    "ADMIN_PASSWD='$2a$10$bCwdwiJD3rv9xYH1fHBmK.PNbccheIeXT3rpdtHkvVRdaYHMrcam2'"
   ]
  },
  {
   "cell_type": "code",
   "execution_count": null,
   "metadata": {},
   "outputs": [],
   "source": [
    "cat > config.yml <<EOF\n",
    "\n",
    "adminPasswordBcrypt: $ADMIN_PASSWD\n",
    "\n",
    "jwtSecret: myD3m0JWT4S3cr3t\n",
    "\n",
    "mongo:\n",
    "  rsEnabled: false\n",
    "  dbhost: $MONGODB_GRAVITEE_USER:$MONGODB_GRAVITEE_PASS@$MONGODB_HOST\n",
    "  dbname: $MONGODB_DB\n",
    "  dbport: $MONGODB_PORT\n",
    "\n",
    "#es:\n",
    "#  protocol: $ES_PROTOCOL\n",
    "#  host: $ES_HOST\n",
    "#  port: $ES_PORT\n",
    " \n",
    "es:\n",
    "  cluster: graylog-gra2\n",
    "  index: logs-vn-94016-i-demo-gravitee\n",
    "  endpoints:\n",
    "    - https://gra2.logs.ovh.com:9200/\n",
    "  security:\n",
    "    enabled: true\n",
    "    username: logs-vn-94016\n",
    "    password: zb1xNHlQHvZrnjWB!\n",
    "  \n",
    "ui:\n",
    "  ingress:\n",
    "    path: /\n",
    "    hosts:\n",
    "      - dev.apis.ovh ## for the development team\n",
    "    tls:\n",
    "    - hosts:\n",
    "      - dev.apis.ovh\n",
    "      secretName: apis.ovh-cert\n",
    "\n",
    "api:\n",
    "  ingress:\n",
    "    path: /management ## default path value for the api path\n",
    "    hosts:\n",
    "      - dev.apis.ovh\n",
    "    tls:\n",
    "    - hosts:\n",
    "      - dev.apis.ovh\n",
    "      secretName: apis.ovh-cert\n",
    "\n",
    "gateway:\n",
    "  ingress:\n",
    "    path: /\n",
    "    hosts:\n",
    "      - app.apis.ovh ## public access point\n",
    "    tls:\n",
    "    - hosts:\n",
    "      - app.apis.ovh\n",
    "      secretName: apis.ovh-cert\n",
    "      \n",
    "EOF"
   ]
  },
  {
   "cell_type": "code",
   "execution_count": null,
   "metadata": {},
   "outputs": [],
   "source": [
    "helm del --purge gravitee # delete if already installed"
   ]
  },
  {
   "cell_type": "code",
   "execution_count": null,
   "metadata": {},
   "outputs": [],
   "source": [
    "helm install --debug --name gravitee gravitee-1.23.1.tgz -f config.yml"
   ]
  },
  {
   "cell_type": "markdown",
   "metadata": {},
   "source": [
    "Check that the pods are up and running"
   ]
  },
  {
   "cell_type": "code",
   "execution_count": null,
   "metadata": {},
   "outputs": [],
   "source": [
    "kubectl get pods -l release=gravitee"
   ]
  },
  {
   "cell_type": "code",
   "execution_count": null,
   "metadata": {},
   "outputs": [],
   "source": []
  }
 ],
 "metadata": {
  "kernelspec": {
   "display_name": "Bash",
   "language": "bash",
   "name": "bash"
  },
  "language_info": {
   "codemirror_mode": "shell",
   "file_extension": ".sh",
   "mimetype": "text/x-sh",
   "name": "bash"
  }
 },
 "nbformat": 4,
 "nbformat_minor": 2
}
