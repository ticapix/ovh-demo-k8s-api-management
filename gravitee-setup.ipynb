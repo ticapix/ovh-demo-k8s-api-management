{
 "cells": [
  {
   "cell_type": "markdown",
   "metadata": {},
   "source": [
    "# Gravitee.io setup\n",
    "\n",
    "The first step is to build the helm [chart](https://github.com/gravitee-io/gravitee-kubernetes/tree/master/gravitee)."
   ]
  },
  {
   "cell_type": "code",
   "execution_count": 2,
   "metadata": {},
   "outputs": [],
   "source": [
    "export KUBECONFIG=`pwd`/kubeconfig.yaml\n",
    "export PATH=`pwd`:$PATH\n",
    "\n",
    "export MONGODB_ROOT_PASSWORD=$(kubectl get secret --namespace default my-mongodb -o jsonpath=\"{.data.mongodb-root-password}\" | base64 --decode)"
   ]
  },
  {
   "cell_type": "code",
   "execution_count": 7,
   "metadata": {},
   "outputs": [
    {
     "name": "stdout",
     "output_type": "stream",
     "text": [
      "  % Total    % Received % Xferd  Average Speed   Time    Time     Time  Current\n",
      "                                 Dload  Upload   Total   Spent    Left  Speed\n",
      "100   136    0   136    0     0    279      0 --:--:-- --:--:-- --:--:--   279\n",
      "100 26238    0 26238    0     0  24137      0 --:--:--  0:00:01 --:--:--  258k\n"
     ]
    }
   ],
   "source": [
    "mkdir build\n",
    "cd build && curl -OL https://github.com/gravitee-io/gravitee-kubernetes/archive/master.zip"
   ]
  },
  {
   "cell_type": "code",
   "execution_count": 9,
   "metadata": {},
   "outputs": [
    {
     "name": "stdout",
     "output_type": "stream",
     "text": [
      "Archive:  master.zip\n",
      "1d3ae9520d30d9e9257ef13798045e9c740e3311\n",
      "   creating: gravitee-kubernetes-master/\n",
      "  inflating: gravitee-kubernetes-master/.gitignore  \n",
      "  inflating: gravitee-kubernetes-master/CONTRIBUTING.adoc  \n",
      "  inflating: gravitee-kubernetes-master/LICENSE.txt  \n",
      "  inflating: gravitee-kubernetes-master/README.adoc  \n",
      "   creating: gravitee-kubernetes-master/gravitee/\n",
      "  inflating: gravitee-kubernetes-master/gravitee/.helmignore  \n",
      "  inflating: gravitee-kubernetes-master/gravitee/Chart.yaml  \n",
      "  inflating: gravitee-kubernetes-master/gravitee/NOTES.txt  \n",
      "  inflating: gravitee-kubernetes-master/gravitee/README.md  \n",
      "   creating: gravitee-kubernetes-master/gravitee/templates/\n",
      "  inflating: gravitee-kubernetes-master/gravitee/templates/_helpers.tpl  \n",
      "  inflating: gravitee-kubernetes-master/gravitee/templates/api-autoscaler.yaml  \n",
      "  inflating: gravitee-kubernetes-master/gravitee/templates/api-configmap.yaml  \n",
      "  inflating: gravitee-kubernetes-master/gravitee/templates/api-deployment.yaml  \n",
      "  inflating: gravitee-kubernetes-master/gravitee/templates/api-ingress.yaml  \n",
      "  inflating: gravitee-kubernetes-master/gravitee/templates/api-service.yaml  \n",
      "  inflating: gravitee-kubernetes-master/gravitee/templates/gateway-autoscaler.yaml  \n",
      "  inflating: gravitee-kubernetes-master/gravitee/templates/gateway-configmap.yaml  \n",
      "  inflating: gravitee-kubernetes-master/gravitee/templates/gateway-deployment.yaml  \n",
      "  inflating: gravitee-kubernetes-master/gravitee/templates/gateway-ingress.yaml  \n",
      "  inflating: gravitee-kubernetes-master/gravitee/templates/gateway-service.yaml  \n",
      "  inflating: gravitee-kubernetes-master/gravitee/templates/ui-autoscaler.yaml  \n",
      "  inflating: gravitee-kubernetes-master/gravitee/templates/ui-configmap.yaml  \n",
      "  inflating: gravitee-kubernetes-master/gravitee/templates/ui-deployment.yaml  \n",
      "  inflating: gravitee-kubernetes-master/gravitee/templates/ui-ingress.yaml  \n",
      "  inflating: gravitee-kubernetes-master/gravitee/templates/ui-service.yaml  \n",
      "  inflating: gravitee-kubernetes-master/gravitee/values.yaml  \n"
     ]
    }
   ],
   "source": [
    "unzip master.zip"
   ]
  },
  {
   "cell_type": "code",
   "execution_count": 10,
   "metadata": {},
   "outputs": [],
   "source": [
    "cd gravitee-kubernetes-master/gravitee/"
   ]
  },
  {
   "cell_type": "code",
   "execution_count": 12,
   "metadata": {},
   "outputs": [
    {
     "name": "stdout",
     "output_type": "stream",
     "text": [
      "Successfully packaged chart and saved it to: /home/pierre/workspace/articles/k8s_201/build/build/gravitee-kubernetes-master/gravitee/gravitee-1.22.0.tgz\n"
     ]
    }
   ],
   "source": [
    "helm package ."
   ]
  },
  {
   "cell_type": "code",
   "execution_count": 15,
   "metadata": {},
   "outputs": [
    {
     "name": "stdout",
     "output_type": "stream",
     "text": [
      "Error: could not find a ready tiller pod\n"
     ]
    },
    {
     "ename": "",
     "evalue": "1",
     "output_type": "error",
     "traceback": []
    }
   ],
   "source": [
    "helm install --name gravitee gravitee-1.22.0.tgz"
   ]
  },
  {
   "cell_type": "code",
   "execution_count": null,
   "metadata": {},
   "outputs": [],
   "source": []
  }
 ],
 "metadata": {
  "kernelspec": {
   "display_name": "Bash",
   "language": "bash",
   "name": "bash"
  },
  "language_info": {
   "codemirror_mode": "shell",
   "file_extension": ".sh",
   "mimetype": "text/x-sh",
   "name": "bash"
  }
 },
 "nbformat": 4,
 "nbformat_minor": 2
}
