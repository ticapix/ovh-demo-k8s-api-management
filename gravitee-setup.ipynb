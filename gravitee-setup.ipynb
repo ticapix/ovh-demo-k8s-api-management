{
 "cells": [
  {
   "cell_type": "markdown",
   "metadata": {},
   "source": [
    "# Gravitee.io setup\n",
    "\n",
    "## Env Init and MongoDB setup"
   ]
  },
  {
   "cell_type": "code",
   "execution_count": 46,
   "metadata": {},
   "outputs": [],
   "source": [
    "export KUBECONFIG=`pwd`/kubeconfig.yaml\n",
    "export PATH=`pwd`:$PATH"
   ]
  },
  {
   "cell_type": "markdown",
   "metadata": {},
   "source": [
    "First we'll create a secret for our MongoDb database"
   ]
  },
  {
   "cell_type": "code",
   "execution_count": 47,
   "metadata": {},
   "outputs": [],
   "source": [
    "cat > config.yml <<EOF\n",
    "apiVersion: v1\n",
    "kind: Secret\n",
    "metadata:\n",
    "  name: gravitee-mongodb\n",
    "type: Opaque\n",
    "data:\n",
    "  database: gravitee\n",
    "stringData:\n",
    "  username: gravitee\n",
    "  password: \"Sup3rStr0ngPassw0rd\"\n",
    "EOF"
   ]
  },
  {
   "cell_type": "code",
   "execution_count": 48,
   "metadata": {},
   "outputs": [
    {
     "name": "stdout",
     "output_type": "stream",
     "text": [
      "secret/gravitee-mongodb configured\n"
     ]
    }
   ],
   "source": [
    "kubectl apply -f ./config.yml"
   ]
  },
  {
   "cell_type": "markdown",
   "metadata": {},
   "source": [
    "We need now to create a user account associated with the MongoDB database we'll be using"
   ]
  },
  {
   "cell_type": "code",
   "execution_count": 50,
   "metadata": {},
   "outputs": [],
   "source": [
    "MONGODB_ADMIN_USER=root\n",
    "MONGODB_ADMIN_PASS=$(kubectl get secret my-mongodb -o jsonpath=\"{.data.mongodb-root-password}\" | base64 --decode)\n",
    "MONGODB_NS=$(kubectl get service -l release=my-mongodb -o jsonpath=\"{.items[0].metadata.namespace}\")\n",
    "MONGODB_HOST=$(kubectl get service -l release=my-mongodb -o jsonpath=\"{.items[0].metadata.name}\")\n",
    "MONGODB_PORT=$(kubectl get service -l release=my-mongodb -o jsonpath=\"{.items[0].spec.ports[0].port}\")\n",
    "MONGODB_DB=$(kubectl get secret gravitee-mongodb -o jsonpath=\"{.data.database}\")\n",
    "MONGODB_GRAVITEE_USER=$(kubectl get secret gravitee-mongodb -o jsonpath=\"{.data.username}\" | base64 --decode)\n",
    "MONGODB_GRAVITEE_PASS=$(kubectl get secret gravitee-mongodb -o jsonpath=\"{.data.password}\" | base64 --decode)"
   ]
  },
  {
   "cell_type": "code",
   "execution_count": 51,
   "metadata": {},
   "outputs": [],
   "source": [
    "# https://docs.mongodb.com/manual/reference/built-in-roles/#database-user-roles\n",
    "cat > config.js <<EOF\n",
    "db = db.getSiblingDB(\"$MONGODB_DB\")\n",
    "db.createUser({\"user\": \"$MONGODB_GRAVITEE_USER\", \"pwd\": \"$MONGODB_GRAVITEE_PASS\", \"roles\": [\"dbOwner\"]})\n",
    "EOF"
   ]
  },
  {
   "cell_type": "code",
   "execution_count": 35,
   "metadata": {},
   "outputs": [
    {
     "name": "stdout",
     "output_type": "stream",
     "text": [
      "If you don't see a command prompt, try pressing enter.\n",
      "gravitee\n",
      "Successfully added user: { \"user\" : \"gravitee\", \"roles\" : [ \"dbOwner\" ] }\n",
      "bye\n",
      "2019-03-13T21:31:50.665+0000 E -        [main] Error saving history file: FileOpenFailed: Unable to open() file //.dbshell: Unknown error\n",
      "pod \"my-mongodb-client\" deleted\n"
     ]
    }
   ],
   "source": [
    "cat config.js | kubectl run --namespace $MONGODB_NS my-mongodb-client --rm -i --restart='Never' --image bitnami/mongodb --command -- mongo --host $MONGODB_HOST:$MONGODB_PORT -u root -p $MONGODB_PASSWORD"
   ]
  },
  {
   "cell_type": "markdown",
   "metadata": {},
   "source": [
    "## Gravitee installation\n",
    "\n",
    "The first step is to build the helm [chart](https://github.com/gravitee-io/gravitee-kubernetes/tree/master/gravitee)."
   ]
  },
  {
   "cell_type": "code",
   "execution_count": 52,
   "metadata": {},
   "outputs": [
    {
     "name": "stdout",
     "output_type": "stream",
     "text": [
      "mkdir: cannot create directory ‘build’: File exists\n",
      "  % Total    % Received % Xferd  Average Speed   Time    Time     Time  Current\n",
      "                                 Dload  Upload   Total   Spent    Left  Speed\n",
      "100   136    0   136    0     0    279      0 --:--:-- --:--:-- --:--:--   280\n",
      "100 26238    0 26238    0     0  26529      0 --:--:-- --:--:-- --:--:-- 57039\n"
     ]
    }
   ],
   "source": [
    "mkdir build && cd build\n",
    "curl -OL https://github.com/gravitee-io/gravitee-kubernetes/archive/master.zip"
   ]
  },
  {
   "cell_type": "code",
   "execution_count": 53,
   "metadata": {},
   "outputs": [
    {
     "name": "stdout",
     "output_type": "stream",
     "text": [
      "Archive:  master.zip\n",
      "1d3ae9520d30d9e9257ef13798045e9c740e3311\n",
      "   creating: gravitee-kubernetes-master/\n",
      "  inflating: gravitee-kubernetes-master/.gitignore  \n",
      "  inflating: gravitee-kubernetes-master/CONTRIBUTING.adoc  \n",
      "  inflating: gravitee-kubernetes-master/LICENSE.txt  \n",
      "  inflating: gravitee-kubernetes-master/README.adoc  \n",
      "   creating: gravitee-kubernetes-master/gravitee/\n",
      "  inflating: gravitee-kubernetes-master/gravitee/.helmignore  \n",
      "  inflating: gravitee-kubernetes-master/gravitee/Chart.yaml  \n",
      "  inflating: gravitee-kubernetes-master/gravitee/NOTES.txt  \n",
      "  inflating: gravitee-kubernetes-master/gravitee/README.md  \n",
      "   creating: gravitee-kubernetes-master/gravitee/templates/\n",
      "  inflating: gravitee-kubernetes-master/gravitee/templates/_helpers.tpl  \n",
      "  inflating: gravitee-kubernetes-master/gravitee/templates/api-autoscaler.yaml  \n",
      "  inflating: gravitee-kubernetes-master/gravitee/templates/api-configmap.yaml  \n",
      "  inflating: gravitee-kubernetes-master/gravitee/templates/api-deployment.yaml  \n",
      "  inflating: gravitee-kubernetes-master/gravitee/templates/api-ingress.yaml  \n",
      "  inflating: gravitee-kubernetes-master/gravitee/templates/api-service.yaml  \n",
      "  inflating: gravitee-kubernetes-master/gravitee/templates/gateway-autoscaler.yaml  \n",
      "  inflating: gravitee-kubernetes-master/gravitee/templates/gateway-configmap.yaml  \n",
      "  inflating: gravitee-kubernetes-master/gravitee/templates/gateway-deployment.yaml  \n",
      "  inflating: gravitee-kubernetes-master/gravitee/templates/gateway-ingress.yaml  \n",
      "  inflating: gravitee-kubernetes-master/gravitee/templates/gateway-service.yaml  \n",
      "  inflating: gravitee-kubernetes-master/gravitee/templates/ui-autoscaler.yaml  \n",
      "  inflating: gravitee-kubernetes-master/gravitee/templates/ui-configmap.yaml  \n",
      "  inflating: gravitee-kubernetes-master/gravitee/templates/ui-deployment.yaml  \n",
      "  inflating: gravitee-kubernetes-master/gravitee/templates/ui-ingress.yaml  \n",
      "  inflating: gravitee-kubernetes-master/gravitee/templates/ui-service.yaml  \n",
      "  inflating: gravitee-kubernetes-master/gravitee/values.yaml  \n"
     ]
    }
   ],
   "source": [
    "unzip master.zip"
   ]
  },
  {
   "cell_type": "code",
   "execution_count": 54,
   "metadata": {},
   "outputs": [],
   "source": [
    "cd gravitee-kubernetes-master/gravitee/"
   ]
  },
  {
   "cell_type": "code",
   "execution_count": 55,
   "metadata": {},
   "outputs": [
    {
     "name": "stdout",
     "output_type": "stream",
     "text": [
      "Successfully packaged chart and saved it to: /home/pierre/workspace/articles/k8s_201/gravitee-kubernetes-master/gravitee/gravitee-1.22.0.tgz\n"
     ]
    }
   ],
   "source": [
    "helm package ."
   ]
  },
  {
   "cell_type": "code",
   "execution_count": 56,
   "metadata": {},
   "outputs": [],
   "source": [
    "MONGODB_RS=$(kubectl get replicaset -l release=my-mongodb -o jsonpath=\"{.items[0].metadata.name}\")\n",
    "MONGODB_HOST=$(kubectl get service -l release=my-mongodb -o jsonpath=\"{.items[0].metadata.name}.{.items[0].metadata.namespace}.svc.cluster.local\")"
   ]
  },
  {
   "cell_type": "code",
   "execution_count": 57,
   "metadata": {},
   "outputs": [
    {
     "name": "stdout",
     "output_type": "stream",
     "text": [
      "Replicat: my-mongodb-dc4f8dd66, Host: my-mongodb.default.svc.cluster.local, Port: 27017\n"
     ]
    }
   ],
   "source": [
    "echo Replicat: $MONGODB_RS, Host: $MONGODB_HOST, Port: $MONGODB_PORT"
   ]
  },
  {
   "cell_type": "code",
   "execution_count": 58,
   "metadata": {},
   "outputs": [
    {
     "name": "stdout",
     "output_type": "stream",
     "text": [
      "gravitee:Sup3rStr0ngPassw0rd@my-mongodb.default.svc.cluster.local\n"
     ]
    }
   ],
   "source": [
    "echo $MONGODB_GRAVITEE_USER:$MONGODB_GRAVITEE_PASS@$MONGODB_HOST"
   ]
  },
  {
   "cell_type": "code",
   "execution_count": 59,
   "metadata": {},
   "outputs": [],
   "source": [
    "ES_PROTOCOL=$(kubectl get service -l release=my-elasticsearch -o jsonpath=\"{.items[0].spec.ports[0].name}\")\n",
    "ES_PORT=$(kubectl get service -l release=my-elasticsearch -o jsonpath=\"{.items[0].spec.ports[0].port}\")\n",
    "ES_HOST=$(kubectl get service -l release=my-elasticsearch -o jsonpath=\"{.items[0].metadata.name}.{.items[0].metadata.namespace}.svc.cluster.local\")"
   ]
  },
  {
   "cell_type": "code",
   "execution_count": 60,
   "metadata": {},
   "outputs": [
    {
     "name": "stdout",
     "output_type": "stream",
     "text": [
      "Protocol: http, Host: elasticsearch-master-headless.default.svc.cluster.local, Port: 9200\n"
     ]
    }
   ],
   "source": [
    "echo Protocol: $ES_PROTOCOL, Host: $ES_HOST, Port: $ES_PORT"
   ]
  },
  {
   "cell_type": "code",
   "execution_count": 61,
   "metadata": {},
   "outputs": [
    {
     "name": "stdout",
     "output_type": "stream",
     "text": [
      "Error: release: \"gravitee\" not found\n",
      "NAME:   gravitee\n",
      "LAST DEPLOYED: Wed Mar 13 22:37:06 2019\n",
      "NAMESPACE: default\n",
      "STATUS: DEPLOYED\n",
      "\n",
      "RESOURCES:\n",
      "==> v1/ConfigMap\n",
      "NAME              DATA  AGE\n",
      "gravitee-api      1     1s\n",
      "gravitee-gateway  1     1s\n",
      "gravitee-ui       4     1s\n",
      "\n",
      "==> v1/Pod(related)\n",
      "NAME                               READY  STATUS             RESTARTS  AGE\n",
      "gravitee-api-7ccb5794b5-vh82v      0/1    ContainerCreating  0         1s\n",
      "gravitee-gateway-864d77d57d-h9sf2  0/1    ContainerCreating  0         1s\n",
      "gravitee-gateway-864d77d57d-tn9nl  0/1    ContainerCreating  0         1s\n",
      "gravitee-ui-5cff4d56f5-2qs4z       0/1    ContainerCreating  0         1s\n",
      "\n",
      "==> v1/Service\n",
      "NAME              TYPE       CLUSTER-IP    EXTERNAL-IP  PORT(S)   AGE\n",
      "gravitee-api      ClusterIP  10.3.27.225   <none>       83/TCP    1s\n",
      "gravitee-gateway  ClusterIP  10.3.243.228  <none>       82/TCP    1s\n",
      "gravitee-ui       ClusterIP  10.3.215.136  <none>       8002/TCP  1s\n",
      "\n",
      "==> v1beta1/Deployment\n",
      "NAME              READY  UP-TO-DATE  AVAILABLE  AGE\n",
      "gravitee-api      0/1    1           0          1s\n",
      "gravitee-gateway  0/2    2           0          1s\n",
      "gravitee-ui       0/1    1           0          1s\n",
      "\n",
      "==> v1beta1/Ingress\n",
      "NAME              HOSTS             ADDRESS  PORTS  AGE\n",
      "gravitee-api      apim.example.com  80, 443  1s\n",
      "gravitee-gateway  apim.example.com  80, 443  1s\n",
      "gravitee-ui       apim.example.com  80, 443  1s\n",
      "\n",
      "==> v2beta1/HorizontalPodAutoscaler\n",
      "NAME              REFERENCE                    TARGETS        MINPODS  MAXPODS  REPLICAS  AGE\n",
      "gravitee-api      Deployment/gravitee-api      <unknown>/50%  2        3        0         1s\n",
      "gravitee-gateway  Deployment/gravitee-gateway  <unknown>/50%  2        6        0         1s\n",
      "gravitee-ui       Deployment/gravitee-ui       <unknown>/50%  2        3        0         1s\n",
      "\n",
      "\n"
     ]
    }
   ],
   "source": [
    "helm del --purge gravitee\n",
    "helm install --name gravitee gravitee-1.22.0.tgz \\\n",
    "--set mongo.rs=$MONGODB_RS \\\n",
    "--set mongo.rsEnabled=false \\\n",
    "--set mongo.dbhost=$MONGODB_GRAVITEE_USER:$MONGODB_GRAVITEE_PASS@$MONGODB_HOST \\\n",
    "--set mongo.dbport=$MONGODB_PORT \\\n",
    "--set es.protocol=$ES_PROTOCOL \\\n",
    "--set es.host=$ES_HOST \\\n",
    "--set es.port=$ES_PORT\n"
   ]
  },
  {
   "cell_type": "markdown",
   "metadata": {},
   "source": [
    "Check that the pods are up and running"
   ]
  },
  {
   "cell_type": "code",
   "execution_count": 62,
   "metadata": {},
   "outputs": [
    {
     "name": "stdout",
     "output_type": "stream",
     "text": [
      "NAME                                READY   STATUS    RESTARTS   AGE\n",
      "gravitee-api-7ccb5794b5-vh82v       0/1     Running   0          8s\n",
      "gravitee-gateway-864d77d57d-h9sf2   0/1     Running   0          8s\n",
      "gravitee-gateway-864d77d57d-tn9nl   0/1     Running   0          8s\n",
      "gravitee-ui-5cff4d56f5-2qs4z        0/1     Running   0          8s\n"
     ]
    }
   ],
   "source": [
    "kubectl get pods -l release=gravitee"
   ]
  },
  {
   "cell_type": "code",
   "execution_count": null,
   "metadata": {},
   "outputs": [],
   "source": []
  }
 ],
 "metadata": {
  "kernelspec": {
   "display_name": "Bash",
   "language": "bash",
   "name": "bash"
  },
  "language_info": {
   "codemirror_mode": "shell",
   "file_extension": ".sh",
   "mimetype": "text/x-sh",
   "name": "bash"
  }
 },
 "nbformat": 4,
 "nbformat_minor": 2
}
