{
 "cells": [
  {
   "cell_type": "markdown",
   "metadata": {},
   "source": [
    "# Install Gravitee.io\n",
    "\n",
    "Gravitee.io will need a MongoDB and ElasticSearch service."
   ]
  },
  {
   "cell_type": "code",
   "execution_count": null,
   "metadata": {},
   "outputs": [],
   "source": [
    ". ./activate"
   ]
  },
  {
   "cell_type": "markdown",
   "metadata": {},
   "source": [
    "# MongoDB installation\n",
    "\n",
    "The chart documetation is available [here](https://github.com/helm/charts/tree/master/stable/mongodb)\n"
   ]
  },
  {
   "cell_type": "code",
   "execution_count": null,
   "metadata": {},
   "outputs": [],
   "source": [
    "helm del --purge my-mongodb  # delete if already installed"
   ]
  },
  {
   "cell_type": "code",
   "execution_count": null,
   "metadata": {},
   "outputs": [],
   "source": [
    "helm install --name my-mongodb stable/mongodb"
   ]
  },
  {
   "cell_type": "markdown",
   "metadata": {},
   "source": [
    "Check that the pod is up and running"
   ]
  },
  {
   "cell_type": "code",
   "execution_count": null,
   "metadata": {},
   "outputs": [],
   "source": [
    "kubectl get pods,service --namespace=default -l release=my-mongodb -o wide"
   ]
  },
  {
   "cell_type": "markdown",
   "metadata": {},
   "source": [
    "Save admin User/Password values for later"
   ]
  },
  {
   "cell_type": "code",
   "execution_count": null,
   "metadata": {},
   "outputs": [],
   "source": [
    "# Admin credential\n",
    "MONGODB_ADMIN_USER=root\n",
    "MONGODB_ADMIN_PASS=$(kubectl get secret my-mongodb -o jsonpath=\"{.data.mongodb-root-password}\" | base64 --decode)"
   ]
  },
  {
   "cell_type": "markdown",
   "metadata": {},
   "source": [
    "# MongoDB configuration\n",
    "\n",
    "First we'll create a secret for our MongoDB database"
   ]
  },
  {
   "cell_type": "code",
   "execution_count": null,
   "metadata": {},
   "outputs": [],
   "source": [
    "cat > config.yml <<EOF\n",
    "apiVersion: v1\n",
    "kind: Secret\n",
    "metadata:\n",
    "  name: gravitee-mongodb\n",
    "type: Opaque\n",
    "data:\n",
    "  database: gravitee\n",
    "stringData:\n",
    "  username: gravitee\n",
    "  password: \"Sup3rStr0ngPassw0rd\"\n",
    "EOF"
   ]
  },
  {
   "cell_type": "code",
   "execution_count": null,
   "metadata": {},
   "outputs": [],
   "source": [
    "kubectl apply -f config.yml"
   ]
  },
  {
   "cell_type": "markdown",
   "metadata": {},
   "source": [
    "We need now to create a user account associated with the MongoDB database we'll be using"
   ]
  },
  {
   "cell_type": "code",
   "execution_count": null,
   "metadata": {},
   "outputs": [],
   "source": [
    "# DB connection settings\n",
    "MONGODB_HOST=$(kubectl get service -l release=my-mongodb -o jsonpath=\"{.items[0].metadata.name}.{.items[0].metadata.namespace}.svc\")\n",
    "MONGODB_PORT=$(kubectl get service -l release=my-mongodb -o jsonpath=\"{.items[0].spec.ports[0].port}\")\n",
    "\n",
    "# Gravitee credential\n",
    "MONGODB_DB=$(kubectl get secret gravitee-mongodb -o jsonpath=\"{.data.database}\")\n",
    "MONGODB_GRAVITEE_USER=$(kubectl get secret gravitee-mongodb -o jsonpath=\"{.data.username}\" | base64 --decode)\n",
    "MONGODB_GRAVITEE_PASS=$(kubectl get secret gravitee-mongodb -o jsonpath=\"{.data.password}\" | base64 --decode)"
   ]
  },
  {
   "cell_type": "code",
   "execution_count": null,
   "metadata": {},
   "outputs": [],
   "source": [
    "echo Host: $MONGODB_HOST, Port: $MONGODB_PORT"
   ]
  },
  {
   "cell_type": "code",
   "execution_count": null,
   "metadata": {},
   "outputs": [],
   "source": [
    "# https://docs.mongodb.com/manual/reference/built-in-roles/#database-user-roles\n",
    "cat > config.js <<EOF\n",
    "db = db.getSiblingDB(\"$MONGODB_DB\") // select database\n",
    "db.dropUser(\"$MONGODB_GRAVITEE_USER\") // delete user if it exists\n",
    "db.createUser({\"user\": \"$MONGODB_GRAVITEE_USER\", \"pwd\": \"$MONGODB_GRAVITEE_PASS\", \"roles\": [\"dbOwner\"]})// create new user\n",
    "EOF"
   ]
  },
  {
   "cell_type": "code",
   "execution_count": null,
   "metadata": {},
   "outputs": [],
   "source": [
    "cat config.js | kubectl run my-mongodb-client --rm -i --restart='Never' \\\n",
    "--image bitnami/mongodb \\\n",
    "--command -- mongo --host $MONGODB_HOST:$MONGODB_PORT -u $MONGODB_ADMIN_USER -p $MONGODB_ADMIN_PASS"
   ]
  },
  {
   "cell_type": "markdown",
   "metadata": {},
   "source": [
    "# ElasticSearch setup\n",
    "\n",
    "## ~~With OVH Logs~~\n",
    "\n",
    "Gravitee is using one index per day which is not supported by our Logs business model at the moment.\n"
   ]
  },
  {
   "cell_type": "markdown",
   "metadata": {},
   "source": [
    "## With K8s\n",
    "\n",
    "### Install ElasticSearch\n",
    "\n",
    "The chart documetation is available [here](https://github.com/helm/charts/tree/master/stable/elasticsearch)\n",
    "\n",
    "ElasticSearch will require to have at least 3 nodes available."
   ]
  },
  {
   "cell_type": "code",
   "execution_count": null,
   "metadata": {},
   "outputs": [],
   "source": [
    "helm del --purge my-elasticsearch # delete if already installed"
   ]
  },
  {
   "cell_type": "code",
   "execution_count": null,
   "metadata": {},
   "outputs": [],
   "source": [
    "helm install --name my-elasticsearch stable/elasticsearch"
   ]
  },
  {
   "cell_type": "markdown",
   "metadata": {},
   "source": [
    "**Note**: The list of `storageClassName` is available via `kubectl get sc`.\n",
    "\n",
    "Check that the pods are up and running"
   ]
  },
  {
   "cell_type": "code",
   "execution_count": null,
   "metadata": {},
   "outputs": [],
   "source": [
    "kubectl get pods,service --namespace=default -l release=my-elasticsearch -o wide"
   ]
  },
  {
   "cell_type": "markdown",
   "metadata": {},
   "source": [
    "### Collect variables\n",
    "\n",
    "We need to gather some ElasticSearch configuration values"
   ]
  },
  {
   "cell_type": "code",
   "execution_count": null,
   "metadata": {},
   "outputs": [],
   "source": [
    "ES_PROTOCOL=$(kubectl get service -l release=my-elasticsearch -o jsonpath=\"{.items[0].spec.ports[0].name}\")\n",
    "ES_PORT=$(kubectl get service -l release=my-elasticsearch -o jsonpath=\"{.items[0].spec.ports[0].port}\")\n",
    "ES_HOST=$(kubectl get service -l release=my-elasticsearch -o jsonpath=\"{.items[0].metadata.name}.{.items[0].metadata.namespace}.svc\")"
   ]
  },
  {
   "cell_type": "code",
   "execution_count": null,
   "metadata": {},
   "outputs": [],
   "source": [
    "echo Protocol: $ES_PROTOCOL, Host: $ES_HOST, Port: $ES_PORT"
   ]
  },
  {
   "cell_type": "markdown",
   "metadata": {},
   "source": [
    "# Gravitee installation\n",
    "\n",
    "The first step is to build the helm [chart](https://github.com/gravitee-io/gravitee-kubernetes/tree/master/gravitee)."
   ]
  },
  {
   "cell_type": "code",
   "execution_count": null,
   "metadata": {},
   "outputs": [],
   "source": [
    "#curl -OL https://github.com/gravitee-io/gravitee-kubernetes/archive/master.zip\n",
    "curl -L https://github.com/ticapix/gravitee-kubernetes/archive/bump-1.23.1.zip -o master.zip"
   ]
  },
  {
   "cell_type": "code",
   "execution_count": null,
   "metadata": {},
   "outputs": [],
   "source": [
    "unzip -ou master.zip"
   ]
  },
  {
   "cell_type": "code",
   "execution_count": null,
   "metadata": {},
   "outputs": [],
   "source": [
    "helm package gravitee-kubernetes-*/gravitee/ # build chart"
   ]
  },
  {
   "cell_type": "markdown",
   "metadata": {},
   "source": [
    "Generate bcrypt (`$2a$` version) hash.\n",
    "\n",
    "You could use an online generator such as https://www.browserling.com/tools/bcrypt"
   ]
  },
  {
   "cell_type": "code",
   "execution_count": null,
   "metadata": {},
   "outputs": [],
   "source": [
    "ADMIN_PASSWD='$2a$10$bCwdwiJD3rv9xYH1fHBmK.PNbccheIeXT3rpdtHkvVRdaYHMrcam2'"
   ]
  },
  {
   "cell_type": "code",
   "execution_count": null,
   "metadata": {},
   "outputs": [],
   "source": [
    "cat > config.yml <<EOF\n",
    "\n",
    "adminPasswordBcrypt: $ADMIN_PASSWD\n",
    "\n",
    "jwtSecret: myD3m0JWT4S3cr3t\n",
    "\n",
    "mongo:\n",
    "  rsEnabled: false\n",
    "  dbhost: $MONGODB_GRAVITEE_USER:$MONGODB_GRAVITEE_PASS@$MONGODB_HOST\n",
    "  dbname: $MONGODB_DB\n",
    "  dbport: $MONGODB_PORT\n",
    "\n",
    "es:\n",
    "  cluster: elasticsearch # default value\n",
    "  index: gravitee # default value\n",
    "  endpoints:\n",
    "    - $ES_PROTOCOL://$ES_HOST:$ES_PORT\n",
    "\n",
    "ui:\n",
    "  ingress:\n",
    "    path: /\n",
    "    hosts:\n",
    "      - dev.apis.ovh ## for the development team\n",
    "    tls:\n",
    "    - hosts:\n",
    "      - dev.apis.ovh\n",
    "      secretName: apis.ovh-cert\n",
    "\n",
    "api:\n",
    "  ingress:\n",
    "    path: /management ## default path value for the api path\n",
    "    hosts:\n",
    "      - dev.apis.ovh\n",
    "    tls:\n",
    "    - hosts:\n",
    "      - dev.apis.ovh\n",
    "      secretName: apis.ovh-cert\n",
    "\n",
    "gateway:\n",
    "  ingress:\n",
    "    path: /\n",
    "    hosts:\n",
    "      - app.apis.ovh ## public access point\n",
    "    tls:\n",
    "    - hosts:\n",
    "      - app.apis.ovh\n",
    "      secretName: apis.ovh-cert\n",
    "      \n",
    "EOF"
   ]
  },
  {
   "cell_type": "code",
   "execution_count": null,
   "metadata": {},
   "outputs": [],
   "source": [
    "helm del --purge gravitee # delete if already installed"
   ]
  },
  {
   "cell_type": "code",
   "execution_count": null,
   "metadata": {},
   "outputs": [],
   "source": [
    "helm install --name gravitee gravitee-1.23.1.tgz -f config.yml"
   ]
  },
  {
   "cell_type": "markdown",
   "metadata": {},
   "source": [
    "Check that the pods are up and running"
   ]
  },
  {
   "cell_type": "code",
   "execution_count": null,
   "metadata": {},
   "outputs": [],
   "source": [
    "kubectl get pods -l release=gravitee"
   ]
  },
  {
   "cell_type": "code",
   "execution_count": null,
   "metadata": {},
   "outputs": [],
   "source": []
  }
 ],
 "metadata": {
  "kernelspec": {
   "display_name": "Bash",
   "language": "bash",
   "name": "bash"
  },
  "language_info": {
   "codemirror_mode": "shell",
   "file_extension": ".sh",
   "mimetype": "text/x-sh",
   "name": "bash"
  }
 },
 "nbformat": 4,
 "nbformat_minor": 2
}
