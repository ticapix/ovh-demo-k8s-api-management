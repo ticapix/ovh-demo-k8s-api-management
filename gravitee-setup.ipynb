{
 "cells": [
  {
   "cell_type": "markdown",
   "metadata": {},
   "source": [
    "# Gravitee.io setup\n",
    "\n",
    "## Env Init and MongoDB setup"
   ]
  },
  {
   "cell_type": "code",
   "execution_count": null,
   "metadata": {},
   "outputs": [],
   "source": [
    ". activate"
   ]
  },
  {
   "cell_type": "markdown",
   "metadata": {},
   "source": [
    "First we'll create a secret for our MongoDB database"
   ]
  },
  {
   "cell_type": "code",
   "execution_count": null,
   "metadata": {},
   "outputs": [],
   "source": [
    "cat > config.yml <<EOF\n",
    "apiVersion: v1\n",
    "kind: Secret\n",
    "metadata:\n",
    "  name: gravitee-mongodb\n",
    "type: Opaque\n",
    "data:\n",
    "  database: gravitee\n",
    "stringData:\n",
    "  username: gravitee\n",
    "  password: \"Sup3rStr0ngPassw0rd\"\n",
    "EOF"
   ]
  },
  {
   "cell_type": "code",
   "execution_count": null,
   "metadata": {},
   "outputs": [],
   "source": [
    "kubectl apply -f config.yml"
   ]
  },
  {
   "cell_type": "markdown",
   "metadata": {},
   "source": [
    "We need now to create a user account associated with the MongoDB database we'll be using"
   ]
  },
  {
   "cell_type": "code",
   "execution_count": null,
   "metadata": {},
   "outputs": [],
   "source": [
    "# Admin credential\n",
    "MONGODB_ADMIN_USER=root\n",
    "MONGODB_ADMIN_PASS=$(kubectl get secret my-mongodb -o jsonpath=\"{.data.mongodb-root-password}\" | base64 --decode)\n",
    "# DB connection settings\n",
    "MONGODB_HOST=$(kubectl get service -l release=my-mongodb -o jsonpath=\"{.items[0].metadata.name}.{.items[0].metadata.namespace}.svc.cluster.local\")\n",
    "MONGODB_PORT=$(kubectl get service -l release=my-mongodb -o jsonpath=\"{.items[0].spec.ports[0].port}\")\n",
    "# Gravitee credential\n",
    "MONGODB_DB=$(kubectl get secret gravitee-mongodb -o jsonpath=\"{.data.database}\")\n",
    "MONGODB_GRAVITEE_USER=$(kubectl get secret gravitee-mongodb -o jsonpath=\"{.data.username}\" | base64 --decode)\n",
    "MONGODB_GRAVITEE_PASS=$(kubectl get secret gravitee-mongodb -o jsonpath=\"{.data.password}\" | base64 --decode)\n",
    "echo Host: $MONGODB_HOST, Port: $MONGODB_PORT"
   ]
  },
  {
   "cell_type": "code",
   "execution_count": null,
   "metadata": {},
   "outputs": [],
   "source": [
    "# https://docs.mongodb.com/manual/reference/built-in-roles/#database-user-roles\n",
    "cat > config.js <<EOF\n",
    "db = db.getSiblingDB(\"$MONGODB_DB\")\n",
    "db.dropUser(\"$MONGODB_GRAVITEE_USER\")\n",
    "db.createUser({\"user\": \"$MONGODB_GRAVITEE_USER\", \"pwd\": \"$MONGODB_GRAVITEE_PASS\", \"roles\": [\"dbOwner\"]})\n",
    "EOF"
   ]
  },
  {
   "cell_type": "code",
   "execution_count": null,
   "metadata": {},
   "outputs": [],
   "source": [
    "cat config.js | kubectl run my-mongodb-client --rm -i --restart='Never' --image bitnami/mongodb --command -- mongo --host $MONGODB_HOST:$MONGODB_PORT -u $MONGODB_ADMIN_USER -p $MONGODB_ADMIN_PASS"
   ]
  },
  {
   "cell_type": "markdown",
   "metadata": {},
   "source": [
    "## ElasticSearch setup\n",
    "\n",
    "We need to gather some ElasticSearch configuration values"
   ]
  },
  {
   "cell_type": "code",
   "execution_count": null,
   "metadata": {},
   "outputs": [],
   "source": [
    "ES_PROTOCOL=$(kubectl get service -l release=my-elasticsearch -o jsonpath=\"{.items[0].spec.ports[0].name}\")\n",
    "ES_PORT=$(kubectl get service -l release=my-elasticsearch -o jsonpath=\"{.items[0].spec.ports[0].port}\")\n",
    "ES_HOST=$(kubectl get service -l release=my-elasticsearch -o jsonpath=\"{.items[0].metadata.name}.{.items[0].metadata.namespace}.svc.cluster.local\")"
   ]
  },
  {
   "cell_type": "code",
   "execution_count": null,
   "metadata": {},
   "outputs": [],
   "source": [
    "echo Protocol: $ES_PROTOCOL, Host: $ES_HOST, Port: $ES_PORT"
   ]
  },
  {
   "cell_type": "markdown",
   "metadata": {},
   "source": [
    "## Gravitee installation\n",
    "\n",
    "The first step is to build the helm [chart](https://github.com/gravitee-io/gravitee-kubernetes/tree/master/gravitee)."
   ]
  },
  {
   "cell_type": "code",
   "execution_count": null,
   "metadata": {},
   "outputs": [],
   "source": [
    "curl -OL https://github.com/gravitee-io/gravitee-kubernetes/archive/master.zip"
   ]
  },
  {
   "cell_type": "code",
   "execution_count": null,
   "metadata": {},
   "outputs": [],
   "source": [
    "unzip -ou master.zip"
   ]
  },
  {
   "cell_type": "code",
   "execution_count": null,
   "metadata": {},
   "outputs": [],
   "source": [
    "helm package gravitee-kubernetes-master/gravitee/ # build chart"
   ]
  },
  {
   "cell_type": "code",
   "execution_count": null,
   "metadata": {},
   "outputs": [],
   "source": [
    "INGRESS_HOSTS='{}'"
   ]
  },
  {
   "cell_type": "code",
   "execution_count": null,
   "metadata": {},
   "outputs": [],
   "source": [
    "helm del --purge gravitee\n",
    "helm install --name gravitee gravitee-1.22.0.tgz \\\n",
    "--set mongo.rsEnabled=false \\\n",
    "--set mongo.dbhost=$MONGODB_GRAVITEE_USER:$MONGODB_GRAVITEE_PASS@$MONGODB_HOST \\\n",
    "--set mongo.dbport=$MONGODB_PORT \\\n",
    "--set es.protocol=$ES_PROTOCOL \\\n",
    "--set es.host=$ES_HOST \\\n",
    "--set es.port=$ES_PORT \\\n",
    "--set ui.ingress.hosts=$INGRESS_HOSTS \\\n",
    "--set api.ingress.hosts=$INGRESS_HOSTS \\\n",
    "--set gateway.ingress.hosts=$INGRESS_HOSTS"
   ]
  },
  {
   "cell_type": "markdown",
   "metadata": {},
   "source": [
    "Check that the pods are up and running"
   ]
  },
  {
   "cell_type": "code",
   "execution_count": null,
   "metadata": {},
   "outputs": [],
   "source": [
    "kubectl get pods -l release=gravitee"
   ]
  },
  {
   "cell_type": "code",
   "execution_count": null,
   "metadata": {},
   "outputs": [],
   "source": []
  }
 ],
 "metadata": {
  "kernelspec": {
   "display_name": "Bash",
   "language": "bash",
   "name": "bash"
  },
  "language_info": {
   "codemirror_mode": "shell",
   "file_extension": ".sh",
   "mimetype": "text/x-sh",
   "name": "bash"
  }
 },
 "nbformat": 4,
 "nbformat_minor": 2
}
