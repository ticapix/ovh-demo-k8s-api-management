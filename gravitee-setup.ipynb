{
 "cells": [
  {
   "cell_type": "markdown",
   "metadata": {},
   "source": [
    "# Gravitee.io setup\n",
    "\n",
    "## Env Init and MongoDB setup"
   ]
  },
  {
   "cell_type": "code",
   "execution_count": 29,
   "metadata": {},
   "outputs": [
    {
     "name": "stdout",
     "output_type": "stream",
     "text": [
      "/home/pierre/workspace/articles/k8s_201/kubeconfig.yaml\n"
     ]
    }
   ],
   "source": [
    "export KUBECONFIG=`pwd`/kubeconfig.yaml\n",
    "export PATH=`pwd`:$PATH\n",
    "echo $KUBECONFIG"
   ]
  },
  {
   "cell_type": "markdown",
   "metadata": {},
   "source": [
    "First we'll create a secret for our MongoDB database"
   ]
  },
  {
   "cell_type": "code",
   "execution_count": 30,
   "metadata": {},
   "outputs": [],
   "source": [
    "cat > config.yml <<EOF\n",
    "apiVersion: v1\n",
    "kind: Secret\n",
    "metadata:\n",
    "  name: gravitee-mongodb\n",
    "type: Opaque\n",
    "data:\n",
    "  database: gravitee\n",
    "stringData:\n",
    "  username: gravitee\n",
    "  password: \"Sup3rStr0ngPassw0rd\"\n",
    "EOF"
   ]
  },
  {
   "cell_type": "code",
   "execution_count": 31,
   "metadata": {},
   "outputs": [
    {
     "name": "stdout",
     "output_type": "stream",
     "text": [
      "secret/gravitee-mongodb configured\n"
     ]
    }
   ],
   "source": [
    "kubectl apply -f config.yml"
   ]
  },
  {
   "cell_type": "markdown",
   "metadata": {},
   "source": [
    "We need now to create a user account associated with the MongoDB database we'll be using"
   ]
  },
  {
   "cell_type": "code",
   "execution_count": 32,
   "metadata": {},
   "outputs": [
    {
     "name": "stdout",
     "output_type": "stream",
     "text": [
      "Host: my-mongodb.default.svc.cluster.local, Port: 27017\n"
     ]
    }
   ],
   "source": [
    "# Admin credential\n",
    "MONGODB_ADMIN_USER=root\n",
    "MONGODB_ADMIN_PASS=$(kubectl get secret my-mongodb -o jsonpath=\"{.data.mongodb-root-password}\" | base64 --decode)\n",
    "# DB connection settings\n",
    "MONGODB_HOST=$(kubectl get service -l release=my-mongodb -o jsonpath=\"{.items[0].metadata.name}.{.items[0].metadata.namespace}.svc.cluster.local\")\n",
    "MONGODB_PORT=$(kubectl get service -l release=my-mongodb -o jsonpath=\"{.items[0].spec.ports[0].port}\")\n",
    "# Gravitee credential\n",
    "MONGODB_DB=$(kubectl get secret gravitee-mongodb -o jsonpath=\"{.data.database}\")\n",
    "MONGODB_GRAVITEE_USER=$(kubectl get secret gravitee-mongodb -o jsonpath=\"{.data.username}\" | base64 --decode)\n",
    "MONGODB_GRAVITEE_PASS=$(kubectl get secret gravitee-mongodb -o jsonpath=\"{.data.password}\" | base64 --decode)\n",
    "echo Host: $MONGODB_HOST, Port: $MONGODB_PORT"
   ]
  },
  {
   "cell_type": "code",
   "execution_count": 33,
   "metadata": {},
   "outputs": [],
   "source": [
    "# https://docs.mongodb.com/manual/reference/built-in-roles/#database-user-roles\n",
    "cat > config.js <<EOF\n",
    "db = db.getSiblingDB(\"$MONGODB_DB\")\n",
    "db.dropUser(\"$MONGODB_GRAVITEE_USER\")\n",
    "db.createUser({\"user\": \"$MONGODB_GRAVITEE_USER\", \"pwd\": \"$MONGODB_GRAVITEE_PASS\", \"roles\": [\"dbOwner\"]})\n",
    "EOF"
   ]
  },
  {
   "cell_type": "code",
   "execution_count": 34,
   "metadata": {},
   "outputs": [
    {
     "name": "stdout",
     "output_type": "stream",
     "text": [
      "If you don't see a command prompt, try pressing enter.\n",
      "gravitee\n",
      "false\n",
      "Successfully added user: { \"user\" : \"gravitee\", \"roles\" : [ \"dbOwner\" ] }\n",
      "bye\n",
      "2019-03-14T16:53:55.634+0000 E -        [main] Error saving history file: FileOpenFailed: Unable to open() file //.dbshell: Unknown error\n",
      "pod \"my-mongodb-client\" deleted\n"
     ]
    }
   ],
   "source": [
    "cat config.js | kubectl run my-mongodb-client --rm -i --restart='Never' --image bitnami/mongodb --command -- mongo --host $MONGODB_HOST:$MONGODB_PORT -u $MONGODB_ADMIN_USER -p $MONGODB_ADMIN_PASS"
   ]
  },
  {
   "cell_type": "markdown",
   "metadata": {},
   "source": [
    "## ElasticSearch setup\n",
    "\n",
    "We need to gather some ElasticSearch configuration values"
   ]
  },
  {
   "cell_type": "code",
   "execution_count": 35,
   "metadata": {},
   "outputs": [],
   "source": [
    "ES_PROTOCOL=$(kubectl get service -l release=my-elasticsearch -o jsonpath=\"{.items[0].spec.ports[0].name}\")\n",
    "ES_PORT=$(kubectl get service -l release=my-elasticsearch -o jsonpath=\"{.items[0].spec.ports[0].port}\")\n",
    "ES_HOST=$(kubectl get service -l release=my-elasticsearch -o jsonpath=\"{.items[0].metadata.name}.{.items[0].metadata.namespace}.svc.cluster.local\")"
   ]
  },
  {
   "cell_type": "code",
   "execution_count": 36,
   "metadata": {},
   "outputs": [
    {
     "name": "stdout",
     "output_type": "stream",
     "text": [
      "Protocol: http, Host: elasticsearch-master-headless.default.svc.cluster.local, Port: 9200\n"
     ]
    }
   ],
   "source": [
    "echo Protocol: $ES_PROTOCOL, Host: $ES_HOST, Port: $ES_PORT"
   ]
  },
  {
   "cell_type": "markdown",
   "metadata": {},
   "source": [
    "## Gravitee installation\n",
    "\n",
    "The first step is to build the helm [chart](https://github.com/gravitee-io/gravitee-kubernetes/tree/master/gravitee)."
   ]
  },
  {
   "cell_type": "code",
   "execution_count": 37,
   "metadata": {},
   "outputs": [
    {
     "name": "stdout",
     "output_type": "stream",
     "text": [
      "  % Total    % Received % Xferd  Average Speed   Time    Time     Time  Current\n",
      "                                 Dload  Upload   Total   Spent    Left  Speed\n",
      "100   136    0   136    0     0    281      0 --:--:-- --:--:-- --:--:--   282\n",
      "100 26238    0 26238    0     0  26449      0 --:--:-- --:--:-- --:--:--  101k\n"
     ]
    }
   ],
   "source": [
    "curl -OL https://github.com/gravitee-io/gravitee-kubernetes/archive/master.zip"
   ]
  },
  {
   "cell_type": "code",
   "execution_count": 38,
   "metadata": {},
   "outputs": [
    {
     "name": "stdout",
     "output_type": "stream",
     "text": [
      "Archive:  master.zip\n",
      "1d3ae9520d30d9e9257ef13798045e9c740e3311\n"
     ]
    }
   ],
   "source": [
    "unzip -u master.zip"
   ]
  },
  {
   "cell_type": "code",
   "execution_count": 39,
   "metadata": {},
   "outputs": [
    {
     "name": "stdout",
     "output_type": "stream",
     "text": [
      "Successfully packaged chart and saved it to: /home/pierre/workspace/articles/k8s_201/gravitee-1.22.0.tgz\n"
     ]
    }
   ],
   "source": [
    "helm package gravitee-kubernetes-master/gravitee/ # build chart"
   ]
  },
  {
   "cell_type": "code",
   "execution_count": 40,
   "metadata": {},
   "outputs": [
    {
     "name": "stdout",
     "output_type": "stream",
     "text": [
      "Error: release: \"gravitee\" not found\n",
      "NAME:   gravitee\n",
      "LAST DEPLOYED: Thu Mar 14 17:54:12 2019\n",
      "NAMESPACE: default\n",
      "STATUS: DEPLOYED\n",
      "\n",
      "RESOURCES:\n",
      "==> v1/ConfigMap\n",
      "NAME              DATA  AGE\n",
      "gravitee-api      1     1s\n",
      "gravitee-gateway  1     1s\n",
      "gravitee-ui       4     1s\n",
      "\n",
      "==> v1/Pod(related)\n",
      "NAME                               READY  STATUS             RESTARTS  AGE\n",
      "gravitee-api-7ccb5794b5-sl75d      0/1    ContainerCreating  0         1s\n",
      "gravitee-gateway-864d77d57d-qmxcb  0/1    ContainerCreating  0         1s\n",
      "gravitee-gateway-864d77d57d-xks8b  0/1    ContainerCreating  0         1s\n",
      "gravitee-ui-5cff4d56f5-dzffp       0/1    ContainerCreating  0         1s\n",
      "\n",
      "==> v1/Service\n",
      "NAME              TYPE       CLUSTER-IP    EXTERNAL-IP  PORT(S)   AGE\n",
      "gravitee-api      ClusterIP  10.3.60.160   <none>       83/TCP    1s\n",
      "gravitee-gateway  ClusterIP  10.3.150.156  <none>       82/TCP    1s\n",
      "gravitee-ui       ClusterIP  10.3.230.157  <none>       8002/TCP  1s\n",
      "\n",
      "==> v1beta1/Deployment\n",
      "NAME              READY  UP-TO-DATE  AVAILABLE  AGE\n",
      "gravitee-api      0/1    1           0          1s\n",
      "gravitee-gateway  0/2    2           0          1s\n",
      "gravitee-ui       0/1    1           0          1s\n",
      "\n",
      "==> v1beta1/Ingress\n",
      "NAME              HOSTS             ADDRESS  PORTS  AGE\n",
      "gravitee-api      apim.example.com  80, 443  1s\n",
      "gravitee-gateway  apim.example.com  80, 443  1s\n",
      "gravitee-ui       apim.example.com  80, 443  1s\n",
      "\n",
      "==> v2beta1/HorizontalPodAutoscaler\n",
      "NAME              REFERENCE                    TARGETS        MINPODS  MAXPODS  REPLICAS  AGE\n",
      "gravitee-api      Deployment/gravitee-api      <unknown>/50%  2        3        0         1s\n",
      "gravitee-gateway  Deployment/gravitee-gateway  <unknown>/50%  2        6        0         1s\n",
      "gravitee-ui       Deployment/gravitee-ui       <unknown>/50%  2        3        0         1s\n",
      "\n",
      "\n"
     ]
    }
   ],
   "source": [
    "helm del --purge gravitee\n",
    "helm install --name gravitee gravitee-1.22.0.tgz \\\n",
    "--set mongo.rsEnabled=false \\\n",
    "--set mongo.dbhost=$MONGODB_GRAVITEE_USER:$MONGODB_GRAVITEE_PASS@$MONGODB_HOST \\\n",
    "--set mongo.dbport=$MONGODB_PORT \\\n",
    "--set es.protocol=$ES_PROTOCOL \\\n",
    "--set es.host=$ES_HOST \\\n",
    "--set es.port=$ES_PORT\n"
   ]
  },
  {
   "cell_type": "markdown",
   "metadata": {},
   "source": [
    "Check that the pods are up and running"
   ]
  },
  {
   "cell_type": "code",
   "execution_count": 41,
   "metadata": {},
   "outputs": [
    {
     "name": "stdout",
     "output_type": "stream",
     "text": [
      "NAME                                READY   STATUS    RESTARTS   AGE\n",
      "gravitee-api-7ccb5794b5-sl75d       0/1     Running   0          6s\n",
      "gravitee-gateway-864d77d57d-qmxcb   0/1     Running   0          6s\n",
      "gravitee-gateway-864d77d57d-xks8b   0/1     Running   0          6s\n",
      "gravitee-ui-5cff4d56f5-dzffp        0/1     Running   0          6s\n"
     ]
    }
   ],
   "source": [
    "kubectl get pods -l release=gravitee"
   ]
  },
  {
   "cell_type": "code",
   "execution_count": null,
   "metadata": {},
   "outputs": [],
   "source": []
  }
 ],
 "metadata": {
  "kernelspec": {
   "display_name": "Bash",
   "language": "bash",
   "name": "bash"
  },
  "language_info": {
   "codemirror_mode": "shell",
   "file_extension": ".sh",
   "mimetype": "text/x-sh",
   "name": "bash"
  }
 },
 "nbformat": 4,
 "nbformat_minor": 2
}
